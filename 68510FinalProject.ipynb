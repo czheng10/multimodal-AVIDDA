{
  "cells": [
    {
      "cell_type": "markdown",
      "metadata": {
        "id": "view-in-github",
        "colab_type": "text"
      },
      "source": [
        "<a href=\"https://colab.research.google.com/github/czheng10/multimodal-AVIDDA/blob/main/68510FinalProject.ipynb\" target=\"_parent\"><img src=\"https://colab.research.google.com/assets/colab-badge.svg\" alt=\"Open In Colab\"/></a>"
      ]
    },
    {
      "cell_type": "markdown",
      "metadata": {
        "id": "VEEsuFuyGDbq"
      },
      "source": [
        "# Installation of Software and Packages\n",
        "\n",
        "Note: Importing mediapipe may cause some issues, please restart the runtime and run all cells again."
      ]
    },
    {
      "cell_type": "code",
      "execution_count": null,
      "metadata": {
        "colab": {
          "base_uri": "https://localhost:8080/"
        },
        "id": "PdVsbrvzGB4H",
        "outputId": "484a6584-e7b8-46c1-ba6e-bbab15a8a6db"
      },
      "outputs": [
        {
          "output_type": "stream",
          "name": "stdout",
          "text": [
            "Drive already mounted at /content/drive; to attempt to forcibly remount, call drive.mount(\"/content/drive\", force_remount=True).\n"
          ]
        }
      ],
      "source": [
        "import cv2\n",
        "import os\n",
        "import numpy as np\n",
        "from datetime import datetime\n",
        "import os\n",
        "import math\n",
        "from joblib import dump, load\n",
        "from google.colab import drive\n",
        "drive.mount('/content/drive')"
      ]
    },
    {
      "cell_type": "code",
      "execution_count": null,
      "metadata": {
        "id": "SLHxPZzGFg3S",
        "colab": {
          "base_uri": "https://localhost:8080/"
        },
        "outputId": "f76736ca-05e4-44cc-b272-f4d1848115e1"
      },
      "outputs": [
        {
          "output_type": "stream",
          "name": "stdout",
          "text": [
            "fatal: destination path 'mediapipe-python' already exists and is not an empty directory.\n",
            "Found existing installation: mediapipe 0.10.21\n",
            "Uninstalling mediapipe-0.10.21:\n",
            "  Successfully uninstalled mediapipe-0.10.21\n",
            "Collecting mediapipe\n",
            "  Using cached mediapipe-0.10.21-cp311-cp311-manylinux_2_28_x86_64.whl.metadata (9.7 kB)\n",
            "Requirement already satisfied: absl-py in /usr/local/lib/python3.11/dist-packages (from mediapipe) (1.4.0)\n",
            "Requirement already satisfied: attrs>=19.1.0 in /usr/local/lib/python3.11/dist-packages (from mediapipe) (25.3.0)\n",
            "Requirement already satisfied: flatbuffers>=2.0 in /usr/local/lib/python3.11/dist-packages (from mediapipe) (25.2.10)\n",
            "Requirement already satisfied: jax in /usr/local/lib/python3.11/dist-packages (from mediapipe) (0.5.2)\n",
            "Requirement already satisfied: jaxlib in /usr/local/lib/python3.11/dist-packages (from mediapipe) (0.5.1)\n",
            "Requirement already satisfied: matplotlib in /usr/local/lib/python3.11/dist-packages (from mediapipe) (3.10.0)\n",
            "Requirement already satisfied: numpy<2 in /usr/local/lib/python3.11/dist-packages (from mediapipe) (1.26.4)\n",
            "Requirement already satisfied: opencv-contrib-python in /usr/local/lib/python3.11/dist-packages (from mediapipe) (4.11.0.86)\n",
            "Requirement already satisfied: protobuf<5,>=4.25.3 in /usr/local/lib/python3.11/dist-packages (from mediapipe) (4.25.7)\n",
            "Requirement already satisfied: sounddevice>=0.4.4 in /usr/local/lib/python3.11/dist-packages (from mediapipe) (0.5.1)\n",
            "Requirement already satisfied: sentencepiece in /usr/local/lib/python3.11/dist-packages (from mediapipe) (0.2.0)\n",
            "Requirement already satisfied: CFFI>=1.0 in /usr/local/lib/python3.11/dist-packages (from sounddevice>=0.4.4->mediapipe) (1.17.1)\n",
            "Requirement already satisfied: ml_dtypes>=0.4.0 in /usr/local/lib/python3.11/dist-packages (from jax->mediapipe) (0.4.1)\n",
            "Requirement already satisfied: opt_einsum in /usr/local/lib/python3.11/dist-packages (from jax->mediapipe) (3.4.0)\n",
            "Requirement already satisfied: scipy>=1.11.1 in /usr/local/lib/python3.11/dist-packages (from jax->mediapipe) (1.15.2)\n",
            "Requirement already satisfied: contourpy>=1.0.1 in /usr/local/lib/python3.11/dist-packages (from matplotlib->mediapipe) (1.3.2)\n",
            "Requirement already satisfied: cycler>=0.10 in /usr/local/lib/python3.11/dist-packages (from matplotlib->mediapipe) (0.12.1)\n",
            "Requirement already satisfied: fonttools>=4.22.0 in /usr/local/lib/python3.11/dist-packages (from matplotlib->mediapipe) (4.57.0)\n",
            "Requirement already satisfied: kiwisolver>=1.3.1 in /usr/local/lib/python3.11/dist-packages (from matplotlib->mediapipe) (1.4.8)\n",
            "Requirement already satisfied: packaging>=20.0 in /usr/local/lib/python3.11/dist-packages (from matplotlib->mediapipe) (24.2)\n",
            "Requirement already satisfied: pillow>=8 in /usr/local/lib/python3.11/dist-packages (from matplotlib->mediapipe) (11.2.1)\n",
            "Requirement already satisfied: pyparsing>=2.3.1 in /usr/local/lib/python3.11/dist-packages (from matplotlib->mediapipe) (3.2.3)\n",
            "Requirement already satisfied: python-dateutil>=2.7 in /usr/local/lib/python3.11/dist-packages (from matplotlib->mediapipe) (2.9.0.post0)\n",
            "Requirement already satisfied: pycparser in /usr/local/lib/python3.11/dist-packages (from CFFI>=1.0->sounddevice>=0.4.4->mediapipe) (2.22)\n",
            "Requirement already satisfied: six>=1.5 in /usr/local/lib/python3.11/dist-packages (from python-dateutil>=2.7->matplotlib->mediapipe) (1.17.0)\n",
            "Using cached mediapipe-0.10.21-cp311-cp311-manylinux_2_28_x86_64.whl (35.6 MB)\n",
            "Installing collected packages: mediapipe\n",
            "Successfully installed mediapipe-0.10.21\n"
          ]
        }
      ],
      "source": [
        "!git clone https://github.com/AssemblyAI-Examples/mediapipe-python.git\n",
        "!pip uninstall -y mediapipe\n",
        "!pip install mediapipe --upgrade"
      ]
    },
    {
      "cell_type": "code",
      "execution_count": null,
      "metadata": {
        "id": "Klf9ssDVGW9Y"
      },
      "outputs": [],
      "source": [
        "import mediapipe as mp"
      ]
    },
    {
      "cell_type": "markdown",
      "metadata": {
        "id": "NeOgGPgOIgoU"
      },
      "source": [
        "# Video Processing\n",
        "The following section performs preprocessing on the SUST-DDD dataset to create frames, and creates our testing and training datasets. We use 100 videos of drowsy and 100 of nondrowsy.\n"
      ]
    },
    {
      "cell_type": "code",
      "execution_count": null,
      "metadata": {
        "colab": {
          "base_uri": "https://localhost:8080/"
        },
        "id": "MJjlmczHJDew",
        "outputId": "466c535a-dac5-4ff7-bebc-66c57e6636d7"
      },
      "outputs": [
        {
          "output_type": "stream",
          "name": "stdout",
          "text": [
            "fatal: destination path 'Sivas-University-of-Science-and-Technology-Driver-Drowsiness-Dataset' already exists and is not an empty directory.\n"
          ]
        }
      ],
      "source": [
        "!git clone https://github.com/EsraKavalci/Sivas-University-of-Science-and-Technology-Driver-Drowsiness-Dataset.git\n",
        "\n",
        "# define paths to subdir\n",
        "DROWSY_PATH = \"/content/Sivas-University-of-Science-and-Technology-Driver-Drowsiness-Dataset/SUST Driver Drowsiness Dataset/drowsiness/\"\n",
        "NONDROWSY_PATH = \"/content/Sivas-University-of-Science-and-Technology-Driver-Drowsiness-Dataset/SUST Driver Drowsiness Dataset/not drowsiness/\""
      ]
    },
    {
      "cell_type": "code",
      "execution_count": null,
      "metadata": {
        "id": "eNj90w7iLqW_"
      },
      "outputs": [],
      "source": [
        "RATIO = 0.8 # Test-train ratio\n",
        "DATA_SET_SIZE = 100\n",
        "VALIDATION_SET_SIZE = 100\n",
        "FRAMES = 240\n",
        "TRAIN_PATH = \"/content/drive/My Drive/multimodal/train/\"\n",
        "TEST_PATH = \"/content/drive/My Drive/multimodal/test/\"\n",
        "VALIDATION_PATH = \"/content/drive/My Drive/multimodal/validate/\"\n",
        "mapping = {'d': \"drowsy\", 'n':\"nondrowsy\"}"
      ]
    },
    {
      "cell_type": "code",
      "execution_count": null,
      "metadata": {
        "id": "0w3ruTsnMTwd"
      },
      "outputs": [],
      "source": [
        "def split_data(input_path, train_path, test_path, ratio= 0.8, size=100, frames = 240):\n",
        "  \"\"\"\n",
        "  Given input and output paths, takes all videos from input_path, breaks them down into frames, and\n",
        "  stores them in train and test path based on ratio\n",
        "  \"\"\"\n",
        "  DEBUG = True\n",
        "  os.makedirs(train_path, exist_ok=True)\n",
        "  os.makedirs(test_path, exist_ok=True)\n",
        "\n",
        "  videos = [f for f in os.listdir(input_path) if f.endswith('.mp4')]\n",
        "  videos = videos[:size]\n",
        "  train_count = int(ratio*len(videos))\n",
        "  # iterate through videos\n",
        "  for idx, video in enumerate(videos):\n",
        "\n",
        "    # train test divide + make folder\n",
        "    if idx < train_count:\n",
        "        video_folder = os.path.join(train_path, mapping[video[0]], video.split('.')[0])\n",
        "    else:\n",
        "        video_folder = os.path.join(test_path, mapping[video[0]], video.split('.')[0])\n",
        "    os.makedirs(video_folder, exist_ok=True)\n",
        "    if DEBUG:\n",
        "      print(f'output folder path is {video_folder}')\n",
        "\n",
        "    # normalize # of frames\n",
        "    cap = cv2.VideoCapture(os.path.join(input_path,video))\n",
        "    frame_count = int(cap.get(cv2.CAP_PROP_FRAME_COUNT))\n",
        "    indices = np.linspace(0, frame_count - 1, frames, dtype=int)\n",
        "    # write frames to drive\n",
        "    for x, i in enumerate(indices):\n",
        "      cap.set(cv2.CAP_PROP_POS_FRAMES, i)\n",
        "      ret, frame = cap.read()\n",
        "      if ret:\n",
        "        img_path = os.path.join(video_folder, str(x) + '.jpg')\n",
        "        success = cv2.imwrite(img_path, frame)\n",
        "        if DEBUG and not success:\n",
        "            print(f'frame failed')\n",
        "      else:\n",
        "          break\n",
        "    cap.release()\n",
        "  return"
      ]
    },
    {
      "cell_type": "code",
      "source": [
        "def split_val_data(input_path_drowsy, input_path_nondrowsy, val_path, existing_drowsy, existing_nondrowsy, size = 20, frames = 240):\n",
        "  \"\"\"\n",
        "  Given input and output paths, takes all videos from input_path, breaks them down into frames, and\n",
        "  stores them in val_path\n",
        "  \"\"\"\n",
        "  DEBUG = True\n",
        "  os.makedirs(val_path, exist_ok=True)\n",
        "\n",
        "  # collect existing data\n",
        "  existing_drowsy_drivers = set()\n",
        "  for folder in existing_drowsy:\n",
        "    for driver in os.listdir(folder):\n",
        "      driver_id = driver.split(\"_\")[-1]\n",
        "      existing_drowsy_drivers.add(driver_id)\n",
        "\n",
        "  existing_nondrowsy_drivers = set()\n",
        "  for folder in existing_nondrowsy:\n",
        "    for driver in os.listdir(folder):\n",
        "      driver_id = driver.split(\"_\")[-1]\n",
        "      existing_nondrowsy_drivers.add(driver_id)\n",
        "\n",
        "  drowsy = [f for f in os.listdir(input_path_drowsy) if f.endswith('.mp4') and os.path.splitext(f)[0].split('_')[-1] not in existing_drowsy_drivers]\n",
        "  drowsy = drowsy[:10]\n",
        "  nondrowsy = [f for f in os.listdir(input_path_nondrowsy) if f.endswith('.mp4') and os.path.splitext(f)[0].split('_')[-1] not in existing_nondrowsy_drivers]\n",
        "  nondrowsy = nondrowsy[:10]\n",
        "\n",
        "  # iterate through drowsy videos\n",
        "  for idx, video in enumerate(drowsy):\n",
        "    video_folder = os.path.join(val_path,  mapping[video[0]], video.split('.')[0])\n",
        "    os.makedirs(video_folder, exist_ok=True)\n",
        "    if DEBUG:\n",
        "      print(f'output folder path is {video_folder}')\n",
        "\n",
        "    # normalize # of frames\n",
        "    cap = cv2.VideoCapture(os.path.join(input_path_drowsy,video))\n",
        "    frame_count = int(cap.get(cv2.CAP_PROP_FRAME_COUNT))\n",
        "    indices = np.linspace(0, frame_count - 1, frames, dtype=int)\n",
        "    # write frames to drive\n",
        "    for x, i in enumerate(indices):\n",
        "      cap.set(cv2.CAP_PROP_POS_FRAMES, i)\n",
        "      ret, frame = cap.read()\n",
        "      if ret:\n",
        "        img_path = os.path.join(video_folder, str(x) + '.jpg')\n",
        "        success = cv2.imwrite(img_path, frame)\n",
        "        if DEBUG and not success:\n",
        "            print(f'frame failed')\n",
        "      else:\n",
        "          break\n",
        "    cap.release()\n",
        "\n",
        "  # iterate through nondrowsy videos\n",
        "  for idx, video in enumerate(nondrowsy):\n",
        "    video_folder = os.path.join(val_path,  mapping[video[0]], video.split('.')[0])\n",
        "    os.makedirs(video_folder, exist_ok=True)\n",
        "    if DEBUG:\n",
        "      print(f'output folder path is {video_folder}')\n",
        "\n",
        "    # normalize # of frames\n",
        "    cap = cv2.VideoCapture(os.path.join(input_path_nondrowsy,video))\n",
        "    frame_count = int(cap.get(cv2.CAP_PROP_FRAME_COUNT))\n",
        "    indices = np.linspace(0, frame_count - 1, frames, dtype=int)\n",
        "    # write frames to drive\n",
        "    for x, i in enumerate(indices):\n",
        "      cap.set(cv2.CAP_PROP_POS_FRAMES, i)\n",
        "      ret, frame = cap.read()\n",
        "      if ret:\n",
        "        img_path = os.path.join(video_folder, str(x) + '.jpg')\n",
        "        success = cv2.imwrite(img_path, frame)\n",
        "        if DEBUG and not success:\n",
        "            print(f'frame failed')\n",
        "      else:\n",
        "          break\n",
        "    cap.release()\n",
        "  return"
      ],
      "metadata": {
        "id": "Rpnfu7VWx9gM"
      },
      "execution_count": null,
      "outputs": []
    },
    {
      "cell_type": "markdown",
      "metadata": {
        "id": "EEc17xMsZLjl"
      },
      "source": [
        "The following two split_data calls split the SUST-DDD dataset following the ratio. Note that this will take around 4 hours per call. These only need to be ran once and stored to drive."
      ]
    },
    {
      "cell_type": "code",
      "execution_count": null,
      "metadata": {
        "collapsed": true,
        "id": "NGtIwuCceKbK"
      },
      "outputs": [],
      "source": [
        "# # Split drowsy data\n",
        "# split_data(DROWSY_PATH, TRAIN_PATH, TEST_PATH, RATIO, DATA_SET_SIZE, FRAMES)"
      ]
    },
    {
      "cell_type": "code",
      "execution_count": null,
      "metadata": {
        "id": "anf76ZwMTXTA"
      },
      "outputs": [],
      "source": [
        "# # Split nondrowsy data\n",
        "# split_data(NONDROWSY_PATH, TRAIN_PATH, TEST_PATH, RATIO, DATA_SET_SIZE)"
      ]
    },
    {
      "cell_type": "code",
      "execution_count": null,
      "metadata": {
        "id": "0Vpb0l1AAm__"
      },
      "outputs": [],
      "source": [
        "train_drowsy = \"/content/drive/My Drive/multimodal/train/drowsy\"\n",
        "test_drowsy = \"/content/drive/My Drive/multimodal/test/drowsy\"\n",
        "train_nondrowsy = \"/content/drive/My Drive/multimodal/train/nondrowsy\"\n",
        "test_nondrowsy = \"/content/drive/My Drive/multimodal/test/nondrowsy\""
      ]
    },
    {
      "cell_type": "code",
      "source": [
        "val_drowsy = \"/content/drive/My Drive/multimodal/validate/drowsy\"\n",
        "val_nondrowsy = \"/content/drive/My Drive/multimodal/validate/nondrowsy\""
      ],
      "metadata": {
        "id": "aubtsliPGEEY"
      },
      "execution_count": null,
      "outputs": []
    },
    {
      "cell_type": "code",
      "source": [
        "# # Split validation data\n",
        "# split_val_data(DROWSY_PATH, NONDROWSY_PATH, VALIDATION_PATH, [train_drowsy, test_drowsy], [train_nondrowsy, test_nondrowsy])"
      ],
      "metadata": {
        "id": "9MYLXvKKxqlB"
      },
      "execution_count": null,
      "outputs": []
    },
    {
      "cell_type": "markdown",
      "metadata": {
        "id": "X5kl7FZjII97"
      },
      "source": [
        "# Initializing Mediapipe Solutions"
      ]
    },
    {
      "cell_type": "code",
      "execution_count": null,
      "metadata": {
        "id": "0KHjBn3yIH7k"
      },
      "outputs": [],
      "source": [
        "mp_drawing = mp.solutions.drawing_utils\n",
        "mp_face_mesh = mp.solutions.face_mesh\n",
        "mp_pose = mp.solutions.pose"
      ]
    },
    {
      "cell_type": "markdown",
      "metadata": {
        "id": "euTq8U5R-ZmW"
      },
      "source": [
        "# Feature Detection"
      ]
    },
    {
      "cell_type": "code",
      "execution_count": null,
      "metadata": {
        "id": "_JVJZ0h1a2BQ"
      },
      "outputs": [],
      "source": [
        "#identify which indices of the facemesh correspond to eyes, as opposed to face\n",
        "EYE_IDX = set()\n",
        "for i in mp_face_mesh.FACEMESH_IRISES:\n",
        "  EYE_IDX.add(i[0])\n",
        "  EYE_IDX.add(i[1])\n",
        "for i in mp_face_mesh.FACEMESH_LEFT_EYE:\n",
        "  EYE_IDX.add(i[0])\n",
        "  EYE_IDX.add(i[1])\n",
        "for i in mp_face_mesh.FACEMESH_RIGHT_EYE:\n",
        "  EYE_IDX.add(i[0])\n",
        "  EYE_IDX.add(i[1])\n",
        "\n",
        "# specify UPPER body pose points\n",
        "POSE_IDX = [mp_pose.PoseLandmark.NOSE, \\\n",
        "            mp_pose.PoseLandmark.LEFT_EAR, mp_pose.PoseLandmark.RIGHT_EAR, \\\n",
        "            mp_pose.PoseLandmark.MOUTH_LEFT, mp_pose.PoseLandmark.MOUTH_RIGHT, \\\n",
        "            mp_pose.PoseLandmark.LEFT_SHOULDER, mp_pose.PoseLandmark.RIGHT_SHOULDER]\n",
        "\n",
        "FACE_NO_EYES_LEN = 438"
      ]
    },
    {
      "cell_type": "code",
      "execution_count": null,
      "metadata": {
        "id": "vZ8QQ2Z9-ZPe"
      },
      "outputs": [],
      "source": [
        "def extract_features_by_sample(sample):\n",
        "  \"\"\"\n",
        "  given just one sample, extract the features of EYE (iris), HEAD, POSE from that sample\n",
        "  \"\"\"\n",
        "  eye = []\n",
        "  head = []\n",
        "  pose =[]\n",
        "  sorted_sample = sorted(os.listdir(sample), key=lambda x: int(x.split('.')[0]))\n",
        "  with mp_face_mesh.FaceMesh(\n",
        "        static_image_mode=False,\n",
        "        max_num_faces=1,\n",
        "        refine_landmarks=True) as face_mesh, \\\n",
        "        mp_pose.Pose(\n",
        "        static_image_mode=False,\n",
        "        model_complexity=1) as pose_mesh:\n",
        "        for img in sorted_sample:\n",
        "          frame = cv2.imread(os.path.join(sample, img))\n",
        "\n",
        "          eye_features = []\n",
        "          head_features = []\n",
        "          face_results = face_mesh.process(frame)\n",
        "          if face_results.multi_face_landmarks:\n",
        "            landmarks = face_results.multi_face_landmarks[0].landmark\n",
        "            for idx, landmark in enumerate(landmarks):\n",
        "              if idx in EYE_IDX:\n",
        "                eye_features.append([landmark.x, landmark.y, landmark.z])\n",
        "              else:\n",
        "                head_features.append([landmark.x, landmark.y, landmark.z])\n",
        "\n",
        "          pose_features = []\n",
        "          pose_results = pose_mesh.process(frame)\n",
        "          if pose_results.pose_landmarks:\n",
        "            for i, landmark in enumerate(pose_results.pose_landmarks.landmark):\n",
        "              if i in POSE_IDX:\n",
        "                pose_features.append([landmark.x, landmark.y, landmark.z])\n",
        "          eye.append(eye_features)\n",
        "          head.append(head_features)\n",
        "          pose.append(pose_features)\n",
        "  return eye, head, pose\n"
      ]
    },
    {
      "cell_type": "code",
      "execution_count": null,
      "metadata": {
        "id": "mayhjB4A-YmN"
      },
      "outputs": [],
      "source": [
        "def extract_all_features(path):\n",
        "  \"\"\"\n",
        "  given a path to all samples, runs feature extraction\n",
        "  \"\"\"\n",
        "  eyes = []\n",
        "  heads = []\n",
        "  poses = []\n",
        "  for dir in os.listdir(path):\n",
        "    e, h, p = extract_features_by_sample(os.path.join(path, dir))\n",
        "    eyes.append(e)\n",
        "    heads.append(h)\n",
        "    poses.append(p)\n",
        "    print(dir, \" done\")\n",
        "  return eyes, heads, poses"
      ]
    },
    {
      "cell_type": "code",
      "execution_count": null,
      "metadata": {
        "collapsed": true,
        "id": "dt_6z6YWiSBX"
      },
      "outputs": [],
      "source": [
        "# training_data_nondrowsy = extract_all_features(train_nondrowsy)\n",
        "# train_n_eye = training_data_nondrowsy[0]\n",
        "# train_n_head = training_data_nondrowsy[1]\n",
        "# train_n_pose = training_data_nondrowsy[2]"
      ]
    },
    {
      "cell_type": "code",
      "execution_count": null,
      "metadata": {
        "collapsed": true,
        "id": "j8VaIID1Oxp0"
      },
      "outputs": [],
      "source": [
        "# # 3 by 80\n",
        "# training_data_drowsy = extract_all_features(train_drowsy)\n",
        "# train_d_eye = training_data_drowsy[0]\n",
        "# train_d_head = training_data_drowsy[1]\n",
        "# train_d_pose = training_data_drowsy[2]"
      ]
    },
    {
      "cell_type": "code",
      "source": [
        "# val_data_drowsy = extract_all_features(val_drowsy)\n",
        "# val_d_eye = val_data_drowsy[0]\n",
        "# val_d_head = val_data_drowsy[1]\n",
        "# val_d_pose = val_data_drowsy[2]"
      ],
      "metadata": {
        "collapsed": true,
        "id": "f5uLpjJGFtPs"
      },
      "execution_count": null,
      "outputs": []
    },
    {
      "cell_type": "code",
      "source": [
        "# val_data_nondrowsy = extract_all_features(val_nondrowsy)\n",
        "# val_n_eye = val_data_nondrowsy[0]\n",
        "# val_n_head = val_data_nondrowsy[1]\n",
        "# val_n_pose = val_data_nondrowsy[2]"
      ],
      "metadata": {
        "collapsed": true,
        "id": "XjHOnl-vFthO"
      },
      "execution_count": null,
      "outputs": []
    },
    {
      "cell_type": "code",
      "source": [
        "# train_eye_x, train_eye_y = prepare_data(train_d_eye, train_n_eye, len(EYE_IDX))\n",
        "# train_head_x, train_head_y = prepare_data(train_d_head, train_n_head, FACE_NO_EYES_LEN)\n",
        "# train_pose_x, train_pose_y = prepare_data(train_d_pose, train_n_pose, len(POSE_IDX))\n",
        "\n",
        "# val_eye_x, val_eye_y = prepare_data(val_d_eye, val_n_eye, len(EYE_IDX))\n",
        "# val_head_x, val_head_y = prepare_data(val_d_head, val_n_head, FACE_NO_EYES_LEN)\n",
        "# val_pose_x, val_pose_y = prepare_data(val_d_pose, val_n_pose, len(POSE_IDX))"
      ],
      "metadata": {
        "id": "qylknza-j3UK"
      },
      "execution_count": null,
      "outputs": []
    },
    {
      "cell_type": "code",
      "execution_count": null,
      "metadata": {
        "id": "db7ZXmxvzjN4"
      },
      "outputs": [],
      "source": [
        "# from google.colab import files\n",
        "# dump((train_eye_x, train_eye_y, train_head_x, train_head_y, train_pose_x, train_pose_y), 'traindata.joblib')\n",
        "# dump((val_eye_x, val_eye_y,val_head_x, val_head_y, val_pose_x, val_pose_y), 'valdata.joblib')\n",
        "# files.download('traindata.joblib')\n",
        "# files.download('valdata.joblib')"
      ]
    },
    {
      "cell_type": "code",
      "source": [
        "train_eye_x, train_eye_y, train_head_x, train_head_y, train_pose_x, train_pose_y = load('/content/drive/My Drive/multimodal/traindata.joblib')\n",
        "val_eye_x, val_eye_y,val_head_x, val_head_y, val_pose_x, val_pose_y = load('/content/drive/My Drive/multimodal/valdata.joblib')\n",
        "test_eye_x, test_eye_y,test_head_x, test_head_y,test_pose_x, test_pose_y = load('/content/drive/My Drive/multimodal/testdata.joblib')"
      ],
      "metadata": {
        "id": "oniadm1r4Dht"
      },
      "execution_count": null,
      "outputs": []
    },
    {
      "cell_type": "code",
      "source": [],
      "metadata": {
        "id": "u3ufJKWN4-tR"
      },
      "execution_count": null,
      "outputs": []
    },
    {
      "cell_type": "markdown",
      "metadata": {
        "id": "I_HUMsZirMbN"
      },
      "source": [
        "# Training\n",
        "\n",
        "Here we implement Sci-kit Learn's AdaBoost Classifier. Our choice of weak learners are Decision Tree's with a depth of 1. Other parameters are chosen empirically, and shown below. Here, a label of 1 = drowsy, and a label of 0 = nondrowsy."
      ]
    },
    {
      "cell_type": "code",
      "execution_count": null,
      "metadata": {
        "id": "sg0ZC2MSr-CZ"
      },
      "outputs": [],
      "source": [
        "from joblib import dump, load\n",
        "from sklearn.ensemble import AdaBoostClassifier\n",
        "from sklearn.metrics import accuracy_score, classification_report\n",
        "from sklearn.tree import DecisionTreeClassifier\n",
        "from google.colab import files"
      ]
    },
    {
      "cell_type": "code",
      "execution_count": null,
      "metadata": {
        "id": "xc-Kj2a2vwod"
      },
      "outputs": [],
      "source": [
        "def prepare_data(drowsy, nondrowsy, features):\n",
        "  \"\"\"\n",
        "  Given the drowsy and nondrowsy datasets, returns the X and Y data points ready for training\n",
        "  Note that drowsy = 1, nondrowsy = 0\n",
        "  removes frames where there are no features detected\n",
        "  \"\"\"\n",
        "  x = []\n",
        "  y = [1]*len(drowsy)+[0]*len(nondrowsy)\n",
        "  padding = np.zeros((features, 3))\n",
        "  lengths = set()\n",
        "  for i in drowsy:\n",
        "    sample = []\n",
        "    for frame in i:\n",
        "      if len(frame):\n",
        "        sample.append(frame)\n",
        "      else:\n",
        "        sample.append(padding)\n",
        "    x.append(sample)\n",
        "  for i in nondrowsy:\n",
        "    sample = []\n",
        "    for frame in i:\n",
        "      if len(frame):\n",
        "        sample.append(frame)\n",
        "      else:\n",
        "        sample.append(padding)\n",
        "    x.append(sample)\n",
        "  arr_x = np.array(x)\n",
        "  return arr_x.reshape(arr_x.shape[0], -1), np.array(y)"
      ]
    },
    {
      "cell_type": "code",
      "execution_count": null,
      "metadata": {
        "id": "UrguzY3Op5b4"
      },
      "outputs": [],
      "source": [
        "def create_model(n = 30, lr = 0.1, max_depth = 1):\n",
        "  \"\"\"\n",
        "  Given the number of weak learners and the learning rate, creates an Adaboost\n",
        "  classifier with DecisionTreeClassifiers as the weak learner\n",
        "  \"\"\"\n",
        "  classifier = AdaBoostClassifier(\n",
        "        estimator=DecisionTreeClassifier(max_depth=max_depth, min_samples_leaf = 5, min_samples_split =10),\n",
        "        n_estimators=n,\n",
        "        learning_rate=lr\n",
        "    )\n",
        "\n",
        "  return classifier"
      ]
    },
    {
      "cell_type": "markdown",
      "metadata": {
        "id": "8jo1iYU7HwUV"
      },
      "source": [
        "The following method trains our three models. This part will take about 35 minutes."
      ]
    },
    {
      "cell_type": "code",
      "execution_count": null,
      "metadata": {
        "id": "Elc45_7OrebG"
      },
      "outputs": [],
      "source": [
        "def train_models(train_eye_x, train_eye_y, train_head_x, train_head_y, train_pose_x, train_pose_y):\n",
        "  \"\"\"\n",
        "  Given both drowsy and nondrowsy EYE, HEAD, POSE data, train 3 AdaBoost classifiers\n",
        "  \"\"\"\n",
        "  e_c = create_model(n = 100, lr = 0.1)\n",
        "  e_c.fit(train_eye_x, train_eye_y)\n",
        "  dump(e_c, 'eye_model.joblib')\n",
        "  print(\"eye done\")\n",
        "\n",
        "  h_c = create_model(n = 150, lr = 0.1)\n",
        "  h_c.fit(train_head_x, train_head_y)\n",
        "  dump(h_c, 'head_model.joblib')\n",
        "  print(\"head done\")\n",
        "\n",
        "  p_c = create_model(n = 100, lr = 0.1)\n",
        "  p_c.fit(train_pose_x, train_pose_y)\n",
        "  dump(p_c, 'upperbodypose_model.joblib')\n",
        "  print(\"pose done\")"
      ]
    },
    {
      "cell_type": "code",
      "execution_count": null,
      "metadata": {
        "id": "iIUK1iLc0gLD",
        "colab": {
          "base_uri": "https://localhost:8080/"
        },
        "outputId": "cfb671b8-dfe6-4703-9c02-2ae064b5adfd"
      },
      "outputs": [
        {
          "output_type": "stream",
          "name": "stdout",
          "text": [
            "eye done\n"
          ]
        }
      ],
      "source": [
        "train_models(train_eye_x, train_eye_y, train_head_x, train_head_y, train_pose_x, train_pose_y)"
      ]
    },
    {
      "cell_type": "code",
      "source": [
        "files.download('eye_model.joblib')"
      ],
      "metadata": {
        "colab": {
          "base_uri": "https://localhost:8080/",
          "height": 16
        },
        "id": "ukAg5zQoc8YN",
        "outputId": "dcabb190-2701-4239-d359-9ae98a57cd35"
      },
      "execution_count": null,
      "outputs": [
        {
          "output_type": "display_data",
          "data": {
            "text/plain": [
              "<IPython.core.display.Javascript object>"
            ],
            "application/javascript": [
              "\n",
              "    async function download(id, filename, size) {\n",
              "      if (!google.colab.kernel.accessAllowed) {\n",
              "        return;\n",
              "      }\n",
              "      const div = document.createElement('div');\n",
              "      const label = document.createElement('label');\n",
              "      label.textContent = `Downloading \"${filename}\": `;\n",
              "      div.appendChild(label);\n",
              "      const progress = document.createElement('progress');\n",
              "      progress.max = size;\n",
              "      div.appendChild(progress);\n",
              "      document.body.appendChild(div);\n",
              "\n",
              "      const buffers = [];\n",
              "      let downloaded = 0;\n",
              "\n",
              "      const channel = await google.colab.kernel.comms.open(id);\n",
              "      // Send a message to notify the kernel that we're ready.\n",
              "      channel.send({})\n",
              "\n",
              "      for await (const message of channel.messages) {\n",
              "        // Send a message to notify the kernel that we're ready.\n",
              "        channel.send({})\n",
              "        if (message.buffers) {\n",
              "          for (const buffer of message.buffers) {\n",
              "            buffers.push(buffer);\n",
              "            downloaded += buffer.byteLength;\n",
              "            progress.value = downloaded;\n",
              "          }\n",
              "        }\n",
              "      }\n",
              "      const blob = new Blob(buffers, {type: 'application/binary'});\n",
              "      const a = document.createElement('a');\n",
              "      a.href = window.URL.createObjectURL(blob);\n",
              "      a.download = filename;\n",
              "      div.appendChild(a);\n",
              "      a.click();\n",
              "      div.remove();\n",
              "    }\n",
              "  "
            ]
          },
          "metadata": {}
        },
        {
          "output_type": "display_data",
          "data": {
            "text/plain": [
              "<IPython.core.display.Javascript object>"
            ],
            "application/javascript": [
              "download(\"download_2489b354-5052-44c4-b548-8379a3d60a8a\", \"eye_model.joblib\", 67076)"
            ]
          },
          "metadata": {}
        }
      ]
    },
    {
      "cell_type": "code",
      "source": [
        "files.download('head_model.joblib')"
      ],
      "metadata": {
        "colab": {
          "base_uri": "https://localhost:8080/",
          "height": 16
        },
        "id": "589DcwIWYT8u",
        "outputId": "e7783d6e-93c4-4c69-baed-b1a614c893eb"
      },
      "execution_count": null,
      "outputs": [
        {
          "output_type": "display_data",
          "data": {
            "text/plain": [
              "<IPython.core.display.Javascript object>"
            ],
            "application/javascript": [
              "\n",
              "    async function download(id, filename, size) {\n",
              "      if (!google.colab.kernel.accessAllowed) {\n",
              "        return;\n",
              "      }\n",
              "      const div = document.createElement('div');\n",
              "      const label = document.createElement('label');\n",
              "      label.textContent = `Downloading \"${filename}\": `;\n",
              "      div.appendChild(label);\n",
              "      const progress = document.createElement('progress');\n",
              "      progress.max = size;\n",
              "      div.appendChild(progress);\n",
              "      document.body.appendChild(div);\n",
              "\n",
              "      const buffers = [];\n",
              "      let downloaded = 0;\n",
              "\n",
              "      const channel = await google.colab.kernel.comms.open(id);\n",
              "      // Send a message to notify the kernel that we're ready.\n",
              "      channel.send({})\n",
              "\n",
              "      for await (const message of channel.messages) {\n",
              "        // Send a message to notify the kernel that we're ready.\n",
              "        channel.send({})\n",
              "        if (message.buffers) {\n",
              "          for (const buffer of message.buffers) {\n",
              "            buffers.push(buffer);\n",
              "            downloaded += buffer.byteLength;\n",
              "            progress.value = downloaded;\n",
              "          }\n",
              "        }\n",
              "      }\n",
              "      const blob = new Blob(buffers, {type: 'application/binary'});\n",
              "      const a = document.createElement('a');\n",
              "      a.href = window.URL.createObjectURL(blob);\n",
              "      a.download = filename;\n",
              "      div.appendChild(a);\n",
              "      a.click();\n",
              "      div.remove();\n",
              "    }\n",
              "  "
            ]
          },
          "metadata": {}
        },
        {
          "output_type": "display_data",
          "data": {
            "text/plain": [
              "<IPython.core.display.Javascript object>"
            ],
            "application/javascript": [
              "download(\"download_ddd023f4-22e2-4185-9bd4-bbd961946934\", \"head_model.joblib\", 102276)"
            ]
          },
          "metadata": {}
        }
      ]
    },
    {
      "cell_type": "code",
      "source": [
        "files.download('upperbodypose_model.joblib')"
      ],
      "metadata": {
        "colab": {
          "base_uri": "https://localhost:8080/",
          "height": 16
        },
        "id": "ezIghb7rYVXY",
        "outputId": "0b596133-969d-4e21-dbf2-cd5283a8e0e7"
      },
      "execution_count": null,
      "outputs": [
        {
          "output_type": "display_data",
          "data": {
            "text/plain": [
              "<IPython.core.display.Javascript object>"
            ],
            "application/javascript": [
              "\n",
              "    async function download(id, filename, size) {\n",
              "      if (!google.colab.kernel.accessAllowed) {\n",
              "        return;\n",
              "      }\n",
              "      const div = document.createElement('div');\n",
              "      const label = document.createElement('label');\n",
              "      label.textContent = `Downloading \"${filename}\": `;\n",
              "      div.appendChild(label);\n",
              "      const progress = document.createElement('progress');\n",
              "      progress.max = size;\n",
              "      div.appendChild(progress);\n",
              "      document.body.appendChild(div);\n",
              "\n",
              "      const buffers = [];\n",
              "      let downloaded = 0;\n",
              "\n",
              "      const channel = await google.colab.kernel.comms.open(id);\n",
              "      // Send a message to notify the kernel that we're ready.\n",
              "      channel.send({})\n",
              "\n",
              "      for await (const message of channel.messages) {\n",
              "        // Send a message to notify the kernel that we're ready.\n",
              "        channel.send({})\n",
              "        if (message.buffers) {\n",
              "          for (const buffer of message.buffers) {\n",
              "            buffers.push(buffer);\n",
              "            downloaded += buffer.byteLength;\n",
              "            progress.value = downloaded;\n",
              "          }\n",
              "        }\n",
              "      }\n",
              "      const blob = new Blob(buffers, {type: 'application/binary'});\n",
              "      const a = document.createElement('a');\n",
              "      a.href = window.URL.createObjectURL(blob);\n",
              "      a.download = filename;\n",
              "      div.appendChild(a);\n",
              "      a.click();\n",
              "      div.remove();\n",
              "    }\n",
              "  "
            ]
          },
          "metadata": {}
        },
        {
          "output_type": "display_data",
          "data": {
            "text/plain": [
              "<IPython.core.display.Javascript object>"
            ],
            "application/javascript": [
              "download(\"download_6f98457c-9d0f-4343-9b75-c89712d54159\", \"upperbodypose_model.joblib\", 67076)"
            ]
          },
          "metadata": {}
        }
      ]
    },
    {
      "cell_type": "markdown",
      "metadata": {
        "id": "BOt1by9EGqQY"
      },
      "source": [
        "# Weighted Combination\n",
        "\n",
        "Now that the three models are trained, in this section, we determine the best possible weighted combination of their predictions."
      ]
    },
    {
      "cell_type": "code",
      "source": [
        "import numpy as np\n",
        "import pandas as pd\n",
        "from sklearn.linear_model import LogisticRegression\n",
        "from sklearn.metrics import roc_auc_score\n",
        "from sklearn.model_selection import StratifiedKFold, train_test_split"
      ],
      "metadata": {
        "id": "PK246ElaKa4k"
      },
      "execution_count": null,
      "outputs": []
    },
    {
      "cell_type": "code",
      "execution_count": null,
      "metadata": {
        "id": "3o5m28-Zh43x"
      },
      "outputs": [],
      "source": [
        "def load_models():\n",
        "  eye = load('/content/drive/My Drive/multimodal/eye_model-100-0.1-spec2.joblib')\n",
        "  head = load('/content/drive/My Drive/multimodal/head_model-spec.joblib')\n",
        "  pose = load('/content/drive/My Drive/multimodal/upperbodypose_model-spec.joblib')\n",
        "  return eye, head, pose"
      ]
    },
    {
      "cell_type": "code",
      "source": [
        "def get_probs(sample_eye, sample_head, sample_pose):\n",
        "  eye_pred = e.predict_proba([sample_eye])\n",
        "  head_pred = h.predict_proba([sample_head])\n",
        "  pose_pred = p.predict_proba([sample_pose])\n",
        "  return eye_pred, head_pred, pose_pred"
      ],
      "metadata": {
        "id": "YGSWOovcKhpt"
      },
      "execution_count": null,
      "outputs": []
    },
    {
      "cell_type": "code",
      "source": [
        "e, h, p = load_models()\n",
        "X_train = np.zeros((160,3))\n",
        "X_val = np.zeros((20,3))\n",
        "y_train = np.zeros((160,1))\n",
        "y_val = np.zeros((20,1))\n",
        "X_eye = np.zeros((160,1))\n",
        "X_head = np.zeros((160,1))\n",
        "X_pose = np.zeros((160,1))\n",
        "\n",
        "for i, [sample_eye, sample_head, sample_pose] in enumerate(zip(val_eye_x, val_head_x, val_pose_x)):\n",
        "  eye_p, head_p, pose_p = get_probs(sample_eye, sample_head, sample_pose)\n",
        "  X_val[i] = [eye_p[0][1], head_p[0][1], pose_p[0][1]]\n",
        "  y_val[i] = [val_eye_y[i]]\n",
        "\n",
        "for j, [sample_eye, sample_head, sample_pose] in enumerate(zip(train_eye_x, train_head_x, train_pose_x)):\n",
        "  eye_p, head_p, pose_p = get_probs(sample_eye, sample_head, sample_pose)\n",
        "  X_train[j] = [eye_p[0][1], head_p[0][1], pose_p[0][1]]\n",
        "  X_eye[j] = eye_p[0][1]\n",
        "  X_head[j] = head_p[0][1]\n",
        "  X_pose[j] = pose_p[0][1]\n",
        "  y_train[j] = [train_eye_y[j]]\n",
        "\n",
        "clf = LogisticRegression(penalty='l2', C=1.0, solver='lbfgs')\n",
        "clf.fit(X_train, y_train)\n",
        "\n",
        "print(\"raw weights:\", clf.coef_[0], \"bias:\", clf.intercept_[0])\n",
        "\n",
        "val_auc = roc_auc_score(y_val, clf.predict_proba(X_val)[:, 1])\n",
        "print(\"val AUC:\", val_auc)\n",
        "\n",
        "raw_weights = clf.coef_[0]\n",
        "\n",
        "weights = np.array([raw_weights[0], raw_weights[1], raw_weights[2]])\n",
        "offset = clf.intercept_[0]\n",
        "\n",
        "X_train_bin = (X_train @ weights + offset >= 0.5).astype(int)\n",
        "print(\"EYE ACCURACY: \", accuracy_score(y_train, (X_eye > 0.5).astype(int)))\n",
        "print(\"HEAD ACCURACY: \", accuracy_score(y_train, (X_head> 0.5).astype(int)))\n",
        "print(\"POSE ACCURACY: \", accuracy_score(y_train, (X_pose> 0.5).astype(int)))"
      ],
      "metadata": {
        "colab": {
          "base_uri": "https://localhost:8080/"
        },
        "id": "sUR5cpKv_RWo",
        "outputId": "ec17066e-9085-44f1-dfb7-be62a0513230"
      },
      "execution_count": null,
      "outputs": [
        {
          "output_type": "stream",
          "name": "stdout",
          "text": [
            "raw weights: [1.87858007 3.86422247 3.73796147] bias: -4.839405413695547\n",
            "val AUC: 0.78\n",
            "EYE ACCURACY:  0.6875\n",
            "HEAD ACCURACY:  0.93125\n",
            "POSE ACCURACY:  0.86875\n"
          ]
        },
        {
          "output_type": "stream",
          "name": "stderr",
          "text": [
            "/usr/local/lib/python3.11/dist-packages/sklearn/utils/validation.py:1408: DataConversionWarning: A column-vector y was passed when a 1d array was expected. Please change the shape of y to (n_samples, ), for example using ravel().\n",
            "  y = column_or_1d(y, warn=True)\n"
          ]
        }
      ]
    },
    {
      "cell_type": "code",
      "source": [
        "def sigmoid(z):\n",
        "    return 1 / (1 + np.exp(-z))"
      ],
      "metadata": {
        "id": "9YVMWN5u5PwL"
      },
      "execution_count": null,
      "outputs": []
    },
    {
      "cell_type": "code",
      "execution_count": null,
      "metadata": {
        "id": "wz5Uu0zQHYpK",
        "colab": {
          "base_uri": "https://localhost:8080/"
        },
        "outputId": "d1936ea7-5817-43a7-b7da-dd344a31b684"
      },
      "outputs": [
        {
          "output_type": "stream",
          "name": "stdout",
          "text": [
            "[0.55183963 0.46221385 0.62995913 0.65349219 0.56460893 0.70507326\n",
            " 0.26653004 0.52960013 0.25238652 0.65348451 0.22507924 0.37724638\n",
            " 0.29845888 0.40599846 0.29704163 0.59508175 0.53036705 0.34424714\n",
            " 0.29829927 0.24940559]\n"
          ]
        }
      ],
      "source": [
        "X_val_sig = sigmoid(X_val @ weights + offset)\n",
        "print(X_val_sig)"
      ]
    },
    {
      "cell_type": "markdown",
      "metadata": {
        "id": "ptmyS7niw_66"
      },
      "source": [
        "# Threshold Determination\n",
        "In the following section, we determine the threshold between classification as drowsy versus non-drowsy, such that we balance the effects of false positives and false negatives."
      ]
    },
    {
      "cell_type": "code",
      "source": [
        "import numpy as np\n",
        "import matplotlib.pyplot as plt\n",
        "from sklearn.metrics import f1_score\n",
        "\n",
        "# Suppose:\n",
        "# y_true = np.array([...])  # True labels (0 or 1)\n",
        "# y_scores = np.array([...])  # Predicted scores/probabilities\n",
        "\n",
        "thresholds = np.linspace(0, 1, 100)\n",
        "accuracies = []\n",
        "highest_acc = -float('inf')\n",
        "THRESHOLD = thresholds[0]\n",
        "for thresh in thresholds:\n",
        "  y_pred = (X_val_sig >= thresh).astype(int)\n",
        "  if accuracy_score(y_val, y_pred) >= highest_acc:\n",
        "    THRESHOLD = thresh\n",
        "    highest_acc = accuracy_score(y_val, y_pred)\n",
        "  accuracies.append(accuracy_score(y_val, y_pred))\n",
        "\n",
        "# Plot F1 vs Threshold\n",
        "plt.plot(thresholds, accuracies)\n",
        "plt.xlabel('Threshold')\n",
        "plt.ylabel('Accuracy')\n",
        "plt.title('Accuracy vs Threshold')\n",
        "plt.grid()\n",
        "plt.show()\n",
        "print(\"BEST THRESHOLD:\", THRESHOLD)"
      ],
      "metadata": {
        "colab": {
          "base_uri": "https://localhost:8080/",
          "height": 488
        },
        "collapsed": true,
        "id": "KkZ-5k7W00fl",
        "outputId": "cd7245cc-bc51-4a0c-c463-f358bca6426d"
      },
      "execution_count": null,
      "outputs": [
        {
          "output_type": "display_data",
          "data": {
            "text/plain": [
              "<Figure size 640x480 with 1 Axes>"
            ],
            "image/png": "[encoded data removed]"
          },
          "metadata": {}
        },
        {
          "output_type": "stream",
          "name": "stdout",
          "text": [
            "BEST THRESHOLD: 0.4545454545454546\n"
          ]
        }
      ]
    },
    {
      "cell_type": "markdown",
      "metadata": {
        "id": "6tyadfPQHZDP"
      },
      "source": [
        "# Preparing the Testing Data"
      ]
    },
    {
      "cell_type": "code",
      "execution_count": null,
      "metadata": {
        "id": "p_nqEd8nGpan",
        "collapsed": true
      },
      "outputs": [],
      "source": [
        "# test_d_eye, test_d_head, test_d_pose = extract_all_features(test_drowsy)\n",
        "# test_n_eye, test_n_head, test_n_pose = extract_all_features(test_nondrowsy)"
      ]
    },
    {
      "cell_type": "code",
      "execution_count": null,
      "metadata": {
        "id": "F4FFJ8U4l9lp"
      },
      "outputs": [],
      "source": [
        "# test_eye_x, test_eye_y = prepare_data(test_d_eye, test_n_eye, len(EYE_IDX))\n",
        "# test_head_x, test_head_y = prepare_data(test_d_head, test_n_head, FACE_NO_EYES_LEN)\n",
        "# test_pose_x, test_pose_y = prepare_data(test_d_pose, test_n_pose, len(POSE_IDX))"
      ]
    },
    {
      "cell_type": "code",
      "source": [
        "# dump((test_eye_x, test_eye_y,test_head_x, test_head_y,test_pose_x, test_pose_y), 'testdata.joblib')\n",
        "# files.download('testdata.joblib')"
      ],
      "metadata": {
        "id": "2fF8oSHnYYhu"
      },
      "execution_count": null,
      "outputs": []
    },
    {
      "cell_type": "markdown",
      "source": [
        "# Evaluation\n",
        "\n",
        "In this section, we seek to evaluate our models' performance and accuracy.\n",
        "\n",
        "For performance, we compute\n",
        "\n",
        "1. the average prediction time\n",
        "2. the average time it takes for data preprocessing and feature extraction\n",
        "3. the average time it takes to go through the entire process (from the moment the recording is produced to the moment the alert is triggered).\n",
        "\n",
        "For accuracy we compute/generate\n",
        "\n",
        "1. the prediction accuracy on 40 unseen data samples\n",
        "2. the prediction accuracy on positive samples (20)\n",
        "3. the prediction accuracy on negative samples (20)\n",
        "4. the prediction recall curve and the AUC score\n",
        "5. the confusion matrix\n",
        "\n"
      ],
      "metadata": {
        "id": "MwWarcHYo4pf"
      }
    },
    {
      "cell_type": "markdown",
      "metadata": {
        "id": "GTi7e8yGon3Q"
      },
      "source": [
        "# Testing"
      ]
    },
    {
      "cell_type": "code",
      "execution_count": null,
      "metadata": {
        "collapsed": true,
        "id": "oDFnfF32nTuX"
      },
      "outputs": [],
      "source": [
        "from sklearn.metrics import accuracy_score\n",
        "X_test = np.zeros((40, 3))\n",
        "y_test = np.zeros((40,1))\n",
        "for i, [sample_eye, sample_head, sample_pose] in enumerate(zip(test_eye_x, test_head_x, test_pose_x)):\n",
        "  eye_p, head_p, pose_p = get_probs(sample_eye, sample_head, sample_pose)\n",
        "  X_test[i] = [eye_p[0][1], head_p[0][1], pose_p[0][1]]\n",
        "  y_test[i] = [test_eye_y[i]]\n",
        "X_test = X_test @ weights + offset\n",
        "X_test = sigmoid(X_test)\n",
        "X_test_bin = (X_test > 0.59).astype(int)\n",
        "acc = accuracy_score(y_test, X_test_bin)"
      ]
    },
    {
      "cell_type": "code",
      "source": [
        "print(X_test)"
      ],
      "metadata": {
        "colab": {
          "base_uri": "https://localhost:8080/"
        },
        "id": "Ow8g6rfU3ucZ",
        "outputId": "b92f2a0b-198b-41aa-c861-f64a60dd3ba7"
      },
      "execution_count": null,
      "outputs": [
        {
          "output_type": "stream",
          "name": "stdout",
          "text": [
            "[0.56946192 0.29937011 0.81349797 0.30036862 0.71248733 0.67415039\n",
            " 0.64840499 0.63805023 0.80630251 0.60768768 0.75216525 0.63217597\n",
            " 0.41929498 0.44729535 0.70674206 0.33288079 0.69527852 0.3824335\n",
            " 0.61657518 0.59865403 0.78086693 0.19960149 0.45954438 0.66951357\n",
            " 0.51757922 0.55998769 0.73518763 0.47474967 0.40042842 0.21607898\n",
            " 0.54692894 0.62312664 0.32620193 0.57975984 0.25351585 0.24038883\n",
            " 0.52343606 0.43405884 0.46698607 0.72278828]\n"
          ]
        }
      ]
    },
    {
      "cell_type": "code",
      "source": [
        "print(f\"Validation Accuracy: {acc:.4f}\")"
      ],
      "metadata": {
        "colab": {
          "base_uri": "https://localhost:8080/"
        },
        "id": "wHn1Whtt0eGM",
        "outputId": "54b4e87e-dd95-4cbf-f0fb-fed0fd7f2568"
      },
      "execution_count": null,
      "outputs": [
        {
          "output_type": "stream",
          "name": "stdout",
          "text": [
            "Validation Accuracy: 0.7000\n"
          ]
        }
      ]
    },
    {
      "cell_type": "code",
      "source": [
        "from sklearn.metrics import confusion_matrix, ConfusionMatrixDisplay\n",
        "import matplotlib.pyplot as plt\n",
        "\n",
        "cm = confusion_matrix(y_test, X_test_bin)\n",
        "disp = ConfusionMatrixDisplay(confusion_matrix=cm)\n",
        "disp.plot()\n",
        "plt.show()"
      ],
      "metadata": {
        "colab": {
          "base_uri": "https://localhost:8080/",
          "height": 449
        },
        "id": "KRU71jB60jeA",
        "outputId": "c0237ec2-6948-4e46-a3e8-96075e8324b5"
      },
      "execution_count": null,
      "outputs": [
        {
          "output_type": "display_data",
          "data": {
            "text/plain": [
              "<Figure size 640x480 with 2 Axes>"
            ],
            "image/png": "[encoded data removed]"
          },
          "metadata": {}
        }
      ]
    },
    {
      "cell_type": "code",
      "source": [
        "from sklearn.metrics import roc_curve, roc_auc_score\n",
        "import matplotlib.pyplot as plt\n",
        "\n",
        "\n",
        "false_pos, true_pos, _ = roc_curve(y_test, X_test_bin)\n",
        "auc   = roc_auc_score(y_test, X_test_bin)\n",
        "print(f\"AUC = {auc:.4f}\")\n",
        "\n",
        "# ----------------------------------------------------\n",
        "# 4. Plot\n",
        "# ----------------------------------------------------\n",
        "plt.figure()\n",
        "plt.plot(false_pos, true_pos, lw=2, label=f\"ROC (AUC = {auc:.3f})\")\n",
        "plt.plot([0, 1], [0, 1], linestyle=\"--\", lw=1, label=\"Chance\")\n",
        "plt.xlabel(\"False-Positive Rate\")\n",
        "plt.ylabel(\"True-Positive Rate (Recall)\")\n",
        "plt.title(\"Receiver Operating Characteristic\")\n",
        "plt.legend()\n",
        "plt.grid(True)\n",
        "plt.tight_layout()\n",
        "plt.show()"
      ],
      "metadata": {
        "colab": {
          "base_uri": "https://localhost:8080/",
          "height": 503
        },
        "id": "h5_cilhr_HkM",
        "outputId": "875f9beb-f1c7-4b41-9769-e6af3eae141d"
      },
      "execution_count": null,
      "outputs": [
        {
          "output_type": "stream",
          "name": "stdout",
          "text": [
            "AUC = 0.7000\n"
          ]
        },
        {
          "output_type": "display_data",
          "data": {
            "text/plain": [
              "<Figure size 640x480 with 1 Axes>"
            ],
            "image/png": "[encoded data removed]"
          },
          "metadata": {}
        }
      ]
    }
  ],
  "metadata": {
    "accelerator": "GPU",
    "colab": {
      "gpuType": "T4",
      "provenance": [],
      "include_colab_link": true
    },
    "kernelspec": {
      "display_name": "Python 3",
      "name": "python3"
    },
    "language_info": {
      "name": "python"
    }
  },
  "nbformat": 4,
  "nbformat_minor": 0
}